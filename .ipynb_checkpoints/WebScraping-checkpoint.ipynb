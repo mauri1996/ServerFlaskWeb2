{
 "cells": [
  {
   "cell_type": "code",
   "execution_count": 36,
   "metadata": {},
   "outputs": [],
   "source": [
    "import numpy as np              # Para operaciones matematicas\n",
    "import pandas as pd             # Manejo de datos / dataframes"
   ]
  },
  {
   "cell_type": "code",
   "execution_count": 2,
   "metadata": {},
   "outputs": [],
   "source": [
    "import requests\n",
    "from bs4 import BeautifulSoup"
   ]
  },
  {
   "cell_type": "code",
   "execution_count": 45,
   "metadata": {},
   "outputs": [],
   "source": [
    "import requests\n",
    "from bs4 import BeautifulSoup\n",
    "\n",
    "URL = 'https://articulo.mercadolibre.com.ec/MEC-430423137-jugueteros-para-ninos-un-fascinante-bebe-mundo-grande-_JM#c_id=/home/category/deal-items/element&c_uid=62a4fc7b-281a-46c2-ae25-299cbd5e5bfe'\n",
    "page = requests.get(URL)\n",
    "\n",
    "soup = BeautifulSoup(page.content, 'html.parser')\n"
   ]
  },
  {
   "cell_type": "markdown",
   "metadata": {},
   "source": [
    "##### Datos generales"
   ]
  },
  {
   "cell_type": "code",
   "execution_count": 89,
   "metadata": {},
   "outputs": [
    {
     "data": {
      "text/plain": [
       "'Jugueteros Para Niños   Un Fascinante Bebé Mundo   Grande'"
      ]
     },
     "execution_count": 89,
     "metadata": {},
     "output_type": "execute_result"
    }
   ],
   "source": [
    "NombreArticulo = soup.find_all(\"h1\", {\"class\": \"ui-pdp-title\"})[0].contents[0]\n",
    "NombreArticulo= NombreArticulo.replace(\"/\",\" \")\n",
    "NombreArticulo"
   ]
  },
  {
   "cell_type": "code",
   "execution_count": 47,
   "metadata": {},
   "outputs": [
    {
     "data": {
      "text/plain": [
       "'99'"
      ]
     },
     "execution_count": 47,
     "metadata": {},
     "output_type": "execute_result"
    }
   ],
   "source": [
    "precio = soup.find_all(\"span\", {\"class\": \"price-tag-fraction\"})[0].contents[0]\n",
    "precio"
   ]
  },
  {
   "cell_type": "markdown",
   "metadata": {},
   "source": [
    "##### Try - para 2 casos"
   ]
  },
  {
   "cell_type": "markdown",
   "metadata": {},
   "source": [
    "##### caso 1"
   ]
  },
  {
   "cell_type": "code",
   "execution_count": 63,
   "metadata": {
    "scrolled": true
   },
   "outputs": [
    {
     "data": {
      "text/plain": [
       "'https://articulo.mercadolibre.com.ec/noindex/profile/feedbacks?noIndex=true&itemId=MEC430423137&controlled=true&modal=true&rating=all'"
      ]
     },
     "execution_count": 63,
     "metadata": {},
     "output_type": "execute_result"
    }
   ],
   "source": [
    "url = soup.find_all(\"a\", {\"class\": \"ui-pdp-action-modal__link\"})[-1]['href']\n",
    "url"
   ]
  },
  {
   "cell_type": "code",
   "execution_count": 64,
   "metadata": {},
   "outputs": [],
   "source": [
    "# fase 2.1        \n",
    "page_user_middleware = requests.get(url)\n",
    "soup_user_middleware = BeautifulSoup(page_user_middleware.content, 'html.parser')"
   ]
  },
  {
   "cell_type": "code",
   "execution_count": 65,
   "metadata": {},
   "outputs": [
    {
     "data": {
      "text/plain": [
       "<p class=\"feedback-profile-link\">\n",
       "<a href=\"http://perfil.mercadolibre.com.ec/RAMSA+IMPORTACIONES\" target=\"_blank\">\n",
       "\t\t\tVer todas las calificaciones del vendedor\n",
       "\t\t</a>\n",
       "</p>"
      ]
     },
     "execution_count": 65,
     "metadata": {},
     "output_type": "execute_result"
    }
   ],
   "source": [
    "new_url = soup_user_middleware.find_all(\"p\", {\"class\": \"feedback-profile-link\"})[0]\n",
    "new_url"
   ]
  },
  {
   "cell_type": "code",
   "execution_count": 66,
   "metadata": {},
   "outputs": [],
   "source": [
    "url = new_url.find_all(\"a\")[0]\n",
    "url = url['href']"
   ]
  },
  {
   "cell_type": "markdown",
   "metadata": {},
   "source": [
    "###### Caso 2"
   ]
  },
  {
   "cell_type": "code",
   "execution_count": 50,
   "metadata": {},
   "outputs": [
    {
     "data": {
      "text/plain": [
       "[]"
      ]
     },
     "execution_count": 50,
     "metadata": {},
     "output_type": "execute_result"
    }
   ],
   "source": [
    "url = soup.find_all(\"a\", {\"class\": \"ui-pdp-media__action ui-box-component__action\"})[0]['href']\n",
    "url"
   ]
  },
  {
   "cell_type": "code",
   "execution_count": null,
   "metadata": {},
   "outputs": [],
   "source": []
  },
  {
   "cell_type": "markdown",
   "metadata": {},
   "source": [
    "### otra fase"
   ]
  },
  {
   "cell_type": "code",
   "execution_count": 67,
   "metadata": {},
   "outputs": [],
   "source": [
    "page_user = requests.get(url)\n",
    "soup_user = BeautifulSoup(page_user.content, 'html.parser')"
   ]
  },
  {
   "cell_type": "code",
   "execution_count": 68,
   "metadata": {},
   "outputs": [
    {
     "data": {
      "text/plain": [
       "[<span class=\"buyers-feedback-qualification\" id=\"feedback_good\">Positiva<!-- --> (<!-- -->494<!-- -->)</span>,\n",
       " <span class=\"buyers-feedback-qualification\" id=\"feedback_good\">Neutral<!-- --> (<!-- -->42<!-- -->)</span>,\n",
       " <span class=\"buyers-feedback-qualification\" id=\"feedback_good\">Negativa<!-- --> (<!-- -->10<!-- -->)</span>]"
      ]
     },
     "execution_count": 68,
     "metadata": {},
     "output_type": "execute_result"
    }
   ],
   "source": [
    "Califications = soup_user.find_all(\"span\", {\"class\": \"buyers-feedback-qualification\"})\n",
    "\n",
    "Califications"
   ]
  },
  {
   "cell_type": "code",
   "execution_count": 69,
   "metadata": {},
   "outputs": [
    {
     "data": {
      "text/plain": [
       "['494', '42', '10']"
      ]
     },
     "execution_count": 69,
     "metadata": {},
     "output_type": "execute_result"
    }
   ],
   "source": [
    "calification_points = []\n",
    "for C in Califications:\n",
    "    calification_points.append(C.contents[4])\n",
    "calification_points"
   ]
  },
  {
   "cell_type": "code",
   "execution_count": 70,
   "metadata": {},
   "outputs": [],
   "source": [
    "reputation = soup_user.find_all(\"div\", {\"class\": \"data-level__wrapper\"})[0]\n",
    "reputation= reputation.find_all(\"span\", {\"class\": \"data-level__number\"})\n",
    "recomendado = reputation[0].contents[0]\n",
    "ventas_completadas = reputation[1].contents[0]\n",
    "años_vendiendo = reputation[2].contents[0]"
   ]
  },
  {
   "cell_type": "code",
   "execution_count": 71,
   "metadata": {},
   "outputs": [
    {
     "data": {
      "text/plain": [
       "'años'"
      ]
     },
     "execution_count": 71,
     "metadata": {},
     "output_type": "execute_result"
    }
   ],
   "source": [
    "time = soup_user.find_all(\"p\", {\"class\": \"data-level__description\"})[-1]\n",
    "time = time.find_all(\"span\")[0].contents[-1].split(' ')[1]\n",
    "time"
   ]
  },
  {
   "cell_type": "code",
   "execution_count": null,
   "metadata": {},
   "outputs": [],
   "source": []
  },
  {
   "cell_type": "code",
   "execution_count": 81,
   "metadata": {},
   "outputs": [
    {
     "data": {
      "text/plain": [
       "'https://listado.mercadolibre.com.ec/Jugueteros Para Niños   Un Fascinante Bebé Mundo   Grande'"
      ]
     },
     "execution_count": 81,
     "metadata": {},
     "output_type": "execute_result"
    }
   ],
   "source": [
    "new_url = 'https://listado.mercadolibre.com.ec/'+NombreArticulo\n",
    "new_url"
   ]
  },
  {
   "cell_type": "code",
   "execution_count": 82,
   "metadata": {},
   "outputs": [],
   "source": [
    "page_other_article = requests.get(new_url)\n",
    "soup_other_article = BeautifulSoup(page_other_article.content, 'html.parser')"
   ]
  },
  {
   "cell_type": "code",
   "execution_count": 92,
   "metadata": {},
   "outputs": [
    {
     "ename": "TypeError",
     "evalue": "'<' not supported between instances of 'int' and 'builtin_function_or_method'",
     "output_type": "error",
     "traceback": [
      "\u001b[1;31m---------------------------------------------------------------------------\u001b[0m",
      "\u001b[1;31mTypeError\u001b[0m                                 Traceback (most recent call last)",
      "\u001b[1;32m<ipython-input-92-bbf9cc9b8570>\u001b[0m in \u001b[0;36m<module>\u001b[1;34m\u001b[0m\n\u001b[0;32m      6\u001b[0m     \u001b[0mnum\u001b[0m \u001b[1;33m=\u001b[0m \u001b[0mint\u001b[0m\u001b[1;33m(\u001b[0m\u001b[0mprice\u001b[0m\u001b[1;33m.\u001b[0m\u001b[0mcontents\u001b[0m\u001b[1;33m[\u001b[0m\u001b[1;36m0\u001b[0m\u001b[1;33m]\u001b[0m\u001b[1;33m)\u001b[0m\u001b[1;33m\u001b[0m\u001b[1;33m\u001b[0m\u001b[0m\n\u001b[0;32m      7\u001b[0m     \u001b[0msume\u001b[0m \u001b[1;33m=\u001b[0m \u001b[0msume\u001b[0m \u001b[1;33m+\u001b[0m \u001b[0mnum\u001b[0m\u001b[1;33m\u001b[0m\u001b[1;33m\u001b[0m\u001b[0m\n\u001b[1;32m----> 8\u001b[1;33m     \u001b[1;32mif\u001b[0m\u001b[1;33m(\u001b[0m\u001b[0mnum\u001b[0m\u001b[1;33m<\u001b[0m\u001b[0mmin\u001b[0m\u001b[1;33m)\u001b[0m\u001b[1;33m:\u001b[0m\u001b[1;33m\u001b[0m\u001b[1;33m\u001b[0m\u001b[0m\n\u001b[0m\u001b[0;32m      9\u001b[0m         \u001b[0mmini\u001b[0m\u001b[1;33m=\u001b[0m\u001b[0mnum\u001b[0m\u001b[1;33m\u001b[0m\u001b[1;33m\u001b[0m\u001b[0m\n\u001b[0;32m     10\u001b[0m     \u001b[1;32mif\u001b[0m \u001b[1;33m(\u001b[0m\u001b[0mnum\u001b[0m\u001b[1;33m>\u001b[0m\u001b[0mmax\u001b[0m\u001b[1;33m)\u001b[0m\u001b[1;33m:\u001b[0m\u001b[1;33m\u001b[0m\u001b[1;33m\u001b[0m\u001b[0m\n",
      "\u001b[1;31mTypeError\u001b[0m: '<' not supported between instances of 'int' and 'builtin_function_or_method'"
     ]
    }
   ],
   "source": [
    "prices = soup_other_article.find_all(\"span\", {\"class\": \"price-tag-fraction\"})\n",
    "sume = 0\n",
    "maxi = 0\n",
    "mini = 9999999\n",
    "for price in prices: \n",
    "    num = int(price.contents[0])\n",
    "    sume = sume + num\n",
    "    if(num<mini):\n",
    "        mini=num\n",
    "    if (num>maxi):\n",
    "        maxi=num\n",
    "average= sume/len(prices)\n",
    "print (average, maxi, mini)\n"
   ]
  },
  {
   "cell_type": "code",
   "execution_count": null,
   "metadata": {},
   "outputs": [],
   "source": []
  },
  {
   "cell_type": "code",
   "execution_count": null,
   "metadata": {},
   "outputs": [],
   "source": []
  },
  {
   "cell_type": "code",
   "execution_count": null,
   "metadata": {},
   "outputs": [],
   "source": []
  },
  {
   "cell_type": "code",
   "execution_count": null,
   "metadata": {},
   "outputs": [],
   "source": []
  },
  {
   "cell_type": "code",
   "execution_count": null,
   "metadata": {},
   "outputs": [],
   "source": []
  },
  {
   "cell_type": "code",
   "execution_count": 16,
   "metadata": {},
   "outputs": [],
   "source": [
    "URL='https://articulo.mercadolibre.com.ec/MEC-430213152-computador-todo-en-uno-hp-i7-1000gb-8gb-ram-all-in-one-aio-_JM#reco_item_pos=4&reco_backend=item_decorator&reco_backend_type=function&reco_client=home_navigation-history&reco_id=ff27012e-a67a-4e9d-93e1-2d89fc84b9e3&c_id=/home/navigation/element&c_uid=b001c4bd-8b1d-4e24-ac5a-4a34dfb548f4'\n",
    "page = requests.get(URL)\n",
    "soup = BeautifulSoup(page.content, 'html.parser')"
   ]
  },
  {
   "cell_type": "code",
   "execution_count": null,
   "metadata": {},
   "outputs": [],
   "source": []
  },
  {
   "cell_type": "code",
   "execution_count": 18,
   "metadata": {},
   "outputs": [
    {
     "data": {
      "text/plain": [
       "'https://articulo.mercadolibre.com.ec/noindex/profile/feedbacks?noIndex=true&itemId=MEC430213152&controlled=true&modal=true&rating=all'"
      ]
     },
     "execution_count": 18,
     "metadata": {},
     "output_type": "execute_result"
    }
   ],
   "source": [
    "url = soup.find_all(\"a\", {\"class\": \"ui-pdp-action-modal__link\"})[-1]['href']\n",
    "url"
   ]
  },
  {
   "cell_type": "code",
   "execution_count": 19,
   "metadata": {},
   "outputs": [],
   "source": [
    "# fase 2.1        \n",
    "page_user_middleware = requests.get(url)\n",
    "soup_user_middleware = BeautifulSoup(page_user_middleware.content, 'html.parser')"
   ]
  },
  {
   "cell_type": "code",
   "execution_count": 22,
   "metadata": {},
   "outputs": [
    {
     "data": {
      "text/plain": [
       "<p class=\"feedback-profile-link\">\n",
       "<a href=\"http://perfil.mercadolibre.com.ec/PULUML\" target=\"_blank\">\n",
       "\t\t\tVer todas las calificaciones del vendedor\n",
       "\t\t</a>\n",
       "</p>"
      ]
     },
     "execution_count": 22,
     "metadata": {},
     "output_type": "execute_result"
    }
   ],
   "source": [
    "new_url = soup_user_middleware.find_all(\"p\", {\"class\": \"feedback-profile-link\"})[0]\n",
    "new_url\n"
   ]
  },
  {
   "cell_type": "code",
   "execution_count": 23,
   "metadata": {},
   "outputs": [
    {
     "data": {
      "text/plain": [
       "'http://perfil.mercadolibre.com.ec/PULUML'"
      ]
     },
     "execution_count": 23,
     "metadata": {},
     "output_type": "execute_result"
    }
   ],
   "source": [
    "data = new_url.find_all(\"a\")[0]\n",
    "data['href']"
   ]
  },
  {
   "cell_type": "code",
   "execution_count": null,
   "metadata": {},
   "outputs": [],
   "source": []
  },
  {
   "cell_type": "code",
   "execution_count": 107,
   "metadata": {},
   "outputs": [
    {
     "data": {
      "text/plain": [
       "'1234'"
      ]
     },
     "execution_count": 107,
     "metadata": {},
     "output_type": "execute_result"
    }
   ],
   "source": [
    "cadena= \"1.234\"\n",
    "cadena = cadena.replace(\".\",\"\")\n",
    "cadena"
   ]
  },
  {
   "cell_type": "code",
   "execution_count": null,
   "metadata": {},
   "outputs": [],
   "source": []
  }
 ],
 "metadata": {
  "kernelspec": {
   "display_name": "Python 3",
   "language": "python",
   "name": "python3"
  },
  "language_info": {
   "codemirror_mode": {
    "name": "ipython",
    "version": 3
   },
   "file_extension": ".py",
   "mimetype": "text/x-python",
   "name": "python",
   "nbconvert_exporter": "python",
   "pygments_lexer": "ipython3",
   "version": "3.7.3"
  }
 },
 "nbformat": 4,
 "nbformat_minor": 4
}
