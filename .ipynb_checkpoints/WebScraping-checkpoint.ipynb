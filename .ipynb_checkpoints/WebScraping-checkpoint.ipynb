{
 "cells": [
  {
   "cell_type": "code",
   "execution_count": 36,
   "metadata": {},
   "outputs": [],
   "source": [
    "import numpy as np              # Para operaciones matematicas\n",
    "import pandas as pd             # Manejo de datos / dataframes"
   ]
  },
  {
   "cell_type": "code",
   "execution_count": 11,
   "metadata": {},
   "outputs": [],
   "source": [
    "import requests\n",
    "from bs4 import BeautifulSoup\n",
    "\n",
    "URL = 'https://articulo.mercadolibre.com.ec/MEC-429723046-ltc-tarjeta-de-video-asrock-rx-570-8gb-phantom-gaming-ddr5-_JM#position=1&type=item&tracking_id=bb107bdd-ab37-4426-8293-83e38b62d69e'\n",
    "page = requests.get(URL)\n",
    "\n",
    "soup = BeautifulSoup(page.content, 'html.parser')\n"
   ]
  },
  {
   "cell_type": "code",
   "execution_count": 38,
   "metadata": {},
   "outputs": [
    {
     "data": {
      "text/plain": [
       "'Ltc Tarjeta De Video Asrock Rx 570 8gb Phantom Gaming Ddr5'"
      ]
     },
     "execution_count": 38,
     "metadata": {},
     "output_type": "execute_result"
    }
   ],
   "source": [
    "NombreArticulo = soup.find_all(\"h1\", {\"class\": \"ui-pdp-title\"})[0].contents[0]\n",
    "NombreArticulo"
   ]
  },
  {
   "cell_type": "code",
   "execution_count": 39,
   "metadata": {},
   "outputs": [
    {
     "data": {
      "text/plain": [
       "'429'"
      ]
     },
     "execution_count": 39,
     "metadata": {},
     "output_type": "execute_result"
    }
   ],
   "source": [
    "precio = soup.find_all(\"span\", {\"class\": \"price-tag-fraction\"})[0].contents[0]\n",
    "precio"
   ]
  },
  {
   "cell_type": "code",
   "execution_count": 51,
   "metadata": {},
   "outputs": [
    {
     "data": {
      "text/plain": [
       "'https://perfil.mercadolibre.com.ec/LAND-TECH+COMPUTERS'"
      ]
     },
     "execution_count": 51,
     "metadata": {},
     "output_type": "execute_result"
    }
   ],
   "source": [
    "url = soup.find_all(\"a\", {\"class\": \"ui-pdp-media__action ui-box-component__action\"})[0]['href']\n",
    "url"
   ]
  },
  {
   "cell_type": "code",
   "execution_count": 59,
   "metadata": {},
   "outputs": [],
   "source": [
    "page_user = requests.get(url)\n",
    "soup_user = BeautifulSoup(page_user.content, 'html.parser')"
   ]
  },
  {
   "cell_type": "code",
   "execution_count": 72,
   "metadata": {},
   "outputs": [
    {
     "data": {
      "text/plain": [
       "['1838', '361', '124']"
      ]
     },
     "execution_count": 72,
     "metadata": {},
     "output_type": "execute_result"
    }
   ],
   "source": [
    "Califications = soup_user.find_all(\"span\", {\"class\": \"buyers-feedback-qualification\"})\n",
    "\n",
    "calification_points = []\n",
    "for C in Califications:\n",
    "    calification_points.append(C.contents[4])\n",
    "calification_points"
   ]
  },
  {
   "cell_type": "code",
   "execution_count": 80,
   "metadata": {},
   "outputs": [
    {
     "name": "stdout",
     "output_type": "stream",
     "text": [
      "10343 13 90%\n"
     ]
    }
   ],
   "source": [
    "reputation = soup_user.find_all(\"div\", {\"class\": \"data-level__wrapper\"})[0]\n",
    "reputation= reputation.find_all(\"span\", {\"class\": \"data-level__number\"})\n",
    "recomendado = reputation[0].contents[0]\n",
    "ventas_completadas = reputation[1].contents[0]\n",
    "años_vendiendo = reputation[2].contents[0]\n",
    "print(ventas_completadas,años_vendiendo,recomendado)"
   ]
  },
  {
   "cell_type": "code",
   "execution_count": 81,
   "metadata": {},
   "outputs": [],
   "source": [
    "new_url = 'https://listado.mercadolibre.com.ec/'+NombreArticulo"
   ]
  },
  {
   "cell_type": "code",
   "execution_count": 82,
   "metadata": {},
   "outputs": [],
   "source": [
    "page_other_article = requests.get(new_url)\n",
    "soup_other_article = BeautifulSoup(page_other_article.content, 'html.parser')"
   ]
  },
  {
   "cell_type": "code",
   "execution_count": 90,
   "metadata": {},
   "outputs": [
    {
     "data": {
      "text/plain": [
       "558.1"
      ]
     },
     "execution_count": 90,
     "metadata": {},
     "output_type": "execute_result"
    }
   ],
   "source": [
    "prices = soup_other_article.find_all(\"span\", {\"class\": \"price-tag-fraction\"})\n",
    "sume = 0\n",
    "for price in prices:\n",
    "    sume = sume + int(price.contents[0])\n",
    "average= sume/len(prices)\n",
    "average"
   ]
  },
  {
   "cell_type": "code",
   "execution_count": null,
   "metadata": {},
   "outputs": [],
   "source": []
  },
  {
   "cell_type": "code",
   "execution_count": null,
   "metadata": {},
   "outputs": [],
   "source": []
  },
  {
   "cell_type": "code",
   "execution_count": null,
   "metadata": {},
   "outputs": [],
   "source": []
  }
 ],
 "metadata": {
  "kernelspec": {
   "display_name": "Python 3",
   "language": "python",
   "name": "python3"
  },
  "language_info": {
   "codemirror_mode": {
    "name": "ipython",
    "version": 3
   },
   "file_extension": ".py",
   "mimetype": "text/x-python",
   "name": "python",
   "nbconvert_exporter": "python",
   "pygments_lexer": "ipython3",
   "version": "3.7.3"
  }
 },
 "nbformat": 4,
 "nbformat_minor": 4
}
